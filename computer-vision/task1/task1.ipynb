{
 "cells": [
  {
   "cell_type": "code",
   "execution_count": null,
   "metadata": {},
   "outputs": [],
   "source": [
    "import os\n",
    "import numpy as npi\n",
    "import cv2\n",
    "import matplotlib.pyplot as plt"
   ]
  },
  {
   "cell_type": "code",
   "execution_count": null,
   "metadata": {},
   "outputs": [],
   "source": [
    "os.listdir('data')"
   ]
  },
  {
   "cell_type": "code",
   "execution_count": null,
   "metadata": {},
   "outputs": [],
   "source": [
    "os.path.join('data', '11.jpg')"
   ]
  },
  {
   "cell_type": "code",
   "execution_count": null,
   "metadata": {},
   "outputs": [],
   "source": [
    "os.path.abspath('data')"
   ]
  },
  {
   "cell_type": "code",
   "execution_count": null,
   "metadata": {},
   "outputs": [],
   "source": [
    "# Task1: Create array containing absolute path and relative path\n",
    "\n",
    "abs_path = []\n",
    "rel_path = []\n",
    "\n",
    "img_list = os.listdir('./data')\n",
    "for img in img_list:\n",
    "  abs_path.append(os.path.abspath(os.path.join('data', img)))\n",
    "  rel_path.append(os.path.relpath(os.path.join('data', img)))\n",
    "\n",
    "print(f\"absolute path: {abs_path}\")\n",
    "print(f\"relative path: {rel_path}\")"
   ]
  },
  {
   "cell_type": "code",
   "execution_count": null,
   "metadata": {},
   "outputs": [],
   "source": [
    "img = cv2.imread(rel_path[0])\n",
    "height, width, channel = img.shape\n",
    "print(f\"height: {height}, width: {width}, channel: {channel}\")"
   ]
  },
  {
   "cell_type": "code",
   "execution_count": null,
   "metadata": {},
   "outputs": [],
   "source": [
    "plt.imshow(img)\n",
    "plt.show()"
   ]
  },
  {
   "cell_type": "code",
   "execution_count": null,
   "metadata": {},
   "outputs": [],
   "source": [
    "img2 = cv2.cvtColor(img, cv2.COLOR_BGR2RGB)\n",
    "print(img2.shape)\n",
    "plt.imshow(img2)\n",
    "plt.show()"
   ]
  },
  {
   "cell_type": "code",
   "execution_count": null,
   "metadata": {},
   "outputs": [],
   "source": [
    "img3 = cv2.cvtColor(img, cv2.COLOR_BGR2GRAY)\n",
    "print(img3.shape)\n",
    "plt.imshow(img3, cmap='gray')\n",
    "plt.show()"
   ]
  },
  {
   "cell_type": "code",
   "execution_count": null,
   "metadata": {},
   "outputs": [],
   "source": [
    "img3 = cv2.cvtColor(img, cv2.COLOR_BGR2Lab)\n",
    "\n",
    "plt.imshow(img3)\n",
    "plt.show()\n",
    "\n",
    "plt.imshow(cv2.cvtColor(img3, cv2.COLOR_BGR2RGB))\n",
    "plt.show()\n",
    "\n",
    "img3 = cv2.cvtColor(img, cv2.COLOR_BGR2HSV)\n",
    "\n",
    "plt.imshow(img3)\n",
    "plt.show()\n",
    "\n",
    "img3 = cv2.cvtColor(img3, cv2.COLOR_BGR2RGB)\n",
    "plt.imshow(img3)\n",
    "plt.show()"
   ]
  },
  {
   "cell_type": "code",
   "execution_count": null,
   "metadata": {},
   "outputs": [],
   "source": [
    "img4 = cv2.resize(img, (100, 100))\n",
    "print(img4.shape)\n",
    "plt.imshow(img4)\n",
    "plt.show()"
   ]
  },
  {
   "cell_type": "code",
   "execution_count": null,
   "metadata": {},
   "outputs": [],
   "source": [
    "# Task2: Show image with only B, R, G channel.\n",
    "\n",
    "img = cv2.imread(rel_path[1])\n",
    "\n",
    "# only blue\n",
    "blue_img = npi.copy(img)\n",
    "blue_img[:,:,1] = npi.zeros([img.shape[0], img.shape[1]])\n",
    "blue_img[:,:,0] = npi.zeros([img.shape[0], img.shape[1]])\n",
    "\n",
    "# only green\n",
    "green_img = npi.copy(img)\n",
    "green_img[:,:,2] = npi.zeros([img.shape[0], img.shape[1]])\n",
    "green_img[:,:,0] = npi.zeros([img.shape[0], img.shape[1]])\n",
    "\n",
    "# only red\n",
    "red_img = npi.copy(img)\n",
    "red_img[:,:,2] = npi.zeros([img.shape[0], img.shape[1]])\n",
    "red_img[:,:,1] = npi.zeros([img.shape[0], img.shape[1]])\n",
    "\n",
    "plt.subplot(1, 3, 1)\n",
    "plt.imshow(cv2.cvtColor(blue_img, cv2.COLOR_BGR2RGB))\n",
    "plt.subplot(1, 3, 2)\n",
    "plt.imshow(cv2.cvtColor(green_img, cv2.COLOR_BGR2RGB))\n",
    "plt.subplot(1, 3, 3)\n",
    "plt.imshow(cv2.cvtColor(red_img, cv2.COLOR_BGR2RGB))\n",
    "plt.show()"
   ]
  },
  {
   "cell_type": "code",
   "execution_count": null,
   "metadata": {},
   "outputs": [],
   "source": [
    "img = cv2.imread(rel_path[2])\n",
    "gray = cv2.cvtColor(img, cv2.COLOR_BGR2GRAY)\n",
    "plt.imshow(gray, cmap='gray')\n",
    "plt.show()\n",
    "histogram = npi.zeros((256, ))\n",
    "\n",
    "for row in gray:\n",
    "  for cell in row:\n",
    "    histogram[cell] += 1\n",
    "\n",
    "plt.plot(histogram)\n",
    "plt.show()\n",
    "\n",
    "plt.hist(gray.ravel(),bins=256)\n",
    "plt.show()\n",
    "\n",
    "plt.hist(gray.ravel(),bins=250)\n",
    "plt.show()\n"
   ]
  }
 ],
 "metadata": {
  "kernelspec": {
   "display_name": ".venv",
   "language": "python",
   "name": "python3"
  },
  "language_info": {
   "codemirror_mode": {
    "name": "ipython",
    "version": 3
   },
   "file_extension": ".py",
   "mimetype": "text/x-python",
   "name": "python",
   "nbconvert_exporter": "python",
   "pygments_lexer": "ipython3",
   "version": "3.9.6"
  }
 },
 "nbformat": 4,
 "nbformat_minor": 2
}
